{
 "cells": [
  {
   "cell_type": "code",
   "execution_count": 1,
   "metadata": {},
   "outputs": [],
   "source": [
    "import numpy as np \n",
    "import torch \n",
    "import torch.nn as nn \n",
    "import torch.nn.functional as F\n",
    "from convlstm import *\n",
    "from topple import stabilize, create_visualization\n",
    "\n",
    "data = np.load('50x50topdata.npz')\n",
    "testtarget = torch.tensor(data['arr_0'][:,:,1728:].reshape(1, 50, 50)).float()\n",
    "testdata = data['arr_0'][:,:,:1728]\n",
    "\n",
    "testdata = torch.tensor(testdata.reshape(1, 1728,1, 50, 50))\n",
    "\n",
    "\n",
    "\n",
    "class conv(nn.Module):\n",
    "\n",
    "    def __init__(self):\n",
    "        super().__init__()\n",
    "\n",
    "        self.conv = ConvLSTM(1, 1, (3,3), 1, True)\n",
    "        self.ReLU1 = nn.ReLU()\n",
    "        \n",
    "    def forward(self, x):\n",
    "        \n",
    "        _, x = self.conv(x)\n",
    "        x = self.ReLU1(x[0][0])\n",
    "        x = x.view(1, 1, 50, 50)\n",
    "        \n",
    "        return(x)\n",
    "    \n",
    "\n",
    "\n",
    "model = conv()\n",
    "lossf_n = nn.MSELoss()\n",
    "optim = torch.optim.Adam(model.parameters(), lr = 0.01)\n",
    "data = np.array([])\n",
    "\n",
    "\n",
    "\n",
    "\n",
    "\n",
    "\n",
    "\n",
    "\n",
    "\n",
    "\n"
   ]
  },
  {
   "cell_type": "code",
   "execution_count": 2,
   "metadata": {},
   "outputs": [
    {
     "name": "stderr",
     "output_type": "stream",
     "text": [
      "c:\\Users\\tkoti\\AppData\\Local\\Programs\\Python\\Python311\\Lib\\site-packages\\torch\\nn\\modules\\loss.py:536: UserWarning: Using a target size (torch.Size([1, 50, 50])) that is different to the input size (torch.Size([1, 1, 50, 50])). This will likely lead to incorrect results due to broadcasting. Please ensure they have the same size.\n",
      "  return F.mse_loss(input, target, reduction=self.reduction)\n"
     ]
    },
    {
     "name": "stdout",
     "output_type": "stream",
     "text": [
      "0: 4.405854225158691\n",
      "10: 2.660324811935425\n",
      "20: 2.2326717376708984\n",
      "30: 2.1629762649536133\n",
      "40: 2.1453802585601807\n",
      "50: 2.1386780738830566\n",
      "60: 2.1352643966674805\n",
      "70: 2.1331069469451904\n",
      "80: 2.1315276622772217\n",
      "90: 2.1302688121795654\n"
     ]
    }
   ],
   "source": [
    "\n",
    "\n",
    "for i in range(100):\n",
    "\n",
    "    optim.zero_grad()\n",
    "    output = model(testdata)\n",
    "    loss = lossf_n(output, testtarget)\n",
    "    loss.backward()\n",
    "    optim.step()\n",
    "    if i % 10 == 0:\n",
    "        print(f\"{i}: {loss}\")\n",
    "        accuracy = torch.sum((torch.round(output) == testtarget)) / 2500\n",
    "        data = np.append(data, accuracy.item())\n",
    "        \n",
    "        \n",
    "\n",
    "\n"
   ]
  },
  {
   "cell_type": "code",
   "execution_count": 3,
   "metadata": {},
   "outputs": [],
   "source": [
    "import matplotlib.pyplot as plt"
   ]
  },
  {
   "cell_type": "code",
   "execution_count": 4,
   "metadata": {},
   "outputs": [
    {
     "data": {
      "image/png": "[encoded data removed]",
      "text/plain": [
       "<Figure size 640x480 with 1 Axes>"
      ]
     },
     "metadata": {},
     "output_type": "display_data"
    }
   ],
   "source": [
    "plt.plot(data)\n",
    "plt.show()"
   ]
  },
  {
   "cell_type": "code",
   "execution_count": 50,
   "metadata": {},
   "outputs": [
    {
     "name": "stdout",
     "output_type": "stream",
     "text": [
      "tensor(0.1700)\n"
     ]
    }
   ],
   "source": [
    "\n",
    "\n",
    "\n",
    "\n",
    "\n",
    "\n",
    "\n"
   ]
  }
 ],
 "metadata": {
  "kernelspec": {
   "display_name": "Python 3",
   "language": "python",
   "name": "python3"
  },
  "language_info": {
   "codemirror_mode": {
    "name": "ipython",
    "version": 3
   },
   "file_extension": ".py",
   "mimetype": "text/x-python",
   "name": "python",
   "nbconvert_exporter": "python",
   "pygments_lexer": "ipython3",
   "version": "3.11.0"
  }
 },
 "nbformat": 4,
 "nbformat_minor": 2
}
